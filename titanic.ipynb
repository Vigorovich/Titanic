{
 "cells": [
  {
   "cell_type": "markdown",
   "id": "3fcc7af2",
   "metadata": {},
   "source": [
    "# Analyse de données des passagers du Titanic (kaggle.com)"
   ]
  },
  {
   "cell_type": "code",
   "execution_count": 1,
   "id": "8ba16425",
   "metadata": {
    "scrolled": true
   },
   "outputs": [
    {
     "name": "stderr",
     "output_type": "stream",
     "text": [
      "also installing the dependencies 'glue', 'cli', 'rlang', 'vctrs'\n",
      "\n"
     ]
    },
    {
     "name": "stdout",
     "output_type": "stream",
     "text": [
      "\n",
      "  There are binary versions available but the source versions are later:\n",
      "      binary source needs_compilation\n",
      "glue   1.4.2  1.6.2              TRUE\n",
      "cli    2.5.0  3.3.0              TRUE\n",
      "rlang 0.4.11  1.0.3              TRUE\n",
      "vctrs  0.3.8  0.4.1              TRUE\n",
      "dplyr  1.0.6  1.0.9              TRUE\n",
      "\n",
      "  Binaries will be installed\n",
      "package 'glue' successfully unpacked and MD5 sums checked\n",
      "package 'cli' successfully unpacked and MD5 sums checked\n",
      "package 'rlang' successfully unpacked and MD5 sums checked\n",
      "package 'vctrs' successfully unpacked and MD5 sums checked\n",
      "package 'dplyr' successfully unpacked and MD5 sums checked\n",
      "\n",
      "The downloaded binary packages are in\n",
      "\tC:\\Users\\Alexandre\\AppData\\Local\\Temp\\RtmpyGs8Ob\\downloaded_packages\n"
     ]
    }
   ],
   "source": [
    "install.packages(\"dplyr\")"
   ]
  },
  {
   "cell_type": "code",
   "execution_count": 2,
   "id": "cc019590",
   "metadata": {},
   "outputs": [
    {
     "name": "stdout",
     "output_type": "stream",
     "text": [
      "\n",
      "  There is a binary version available but the source version is later:\n",
      "        binary source needs_compilation\n",
      "ggplot2  3.3.3  3.3.6             FALSE\n",
      "\n"
     ]
    },
    {
     "name": "stderr",
     "output_type": "stream",
     "text": [
      "installing the source package 'ggplot2'\n",
      "\n"
     ]
    }
   ],
   "source": [
    "install.packages(\"ggplot2\")"
   ]
  },
  {
   "cell_type": "code",
   "execution_count": 3,
   "id": "2b2fdd54",
   "metadata": {},
   "outputs": [
    {
     "name": "stdout",
     "output_type": "stream",
     "text": [
      "\n",
      "  There is a binary version available but the source version is later:\n",
      "         binary source needs_compilation\n",
      "corrplot   0.88   0.92             FALSE\n",
      "\n"
     ]
    },
    {
     "name": "stderr",
     "output_type": "stream",
     "text": [
      "installing the source package 'corrplot'\n",
      "\n"
     ]
    }
   ],
   "source": [
    "install.packages(\"corrplot\")"
   ]
  },
  {
   "cell_type": "code",
   "execution_count": 4,
   "id": "3eda7771",
   "metadata": {},
   "outputs": [
    {
     "name": "stderr",
     "output_type": "stream",
     "text": [
      "Warning message:\n",
      "\"package 'dplyr' was built under R version 3.6.3\"\n",
      "Attaching package: 'dplyr'\n",
      "\n",
      "The following objects are masked from 'package:stats':\n",
      "\n",
      "    filter, lag\n",
      "\n",
      "The following objects are masked from 'package:base':\n",
      "\n",
      "    intersect, setdiff, setequal, union\n",
      "\n"
     ]
    }
   ],
   "source": [
    "library(\"dplyr\")"
   ]
  },
  {
   "cell_type": "code",
   "execution_count": 5,
   "id": "8edbbc29",
   "metadata": {},
   "outputs": [],
   "source": [
    "library(\"ggplot2\")"
   ]
  },
  {
   "cell_type": "code",
   "execution_count": 6,
   "id": "e3cd6fa2",
   "metadata": {},
   "outputs": [
    {
     "name": "stderr",
     "output_type": "stream",
     "text": [
      "corrplot 0.92 loaded\n"
     ]
    }
   ],
   "source": [
    "library(\"corrplot\")"
   ]
  },
  {
   "cell_type": "code",
   "execution_count": 7,
   "id": "0dbbedb5",
   "metadata": {},
   "outputs": [],
   "source": [
    "titanic <- read.csv(\"train.csv\")"
   ]
  },
  {
   "cell_type": "code",
   "execution_count": 13,
   "id": "7279604f",
   "metadata": {
    "scrolled": true
   },
   "outputs": [
    {
     "data": {
      "text/html": [
       "<dl>\n",
       "\t<dt>$PassengerId</dt>\n",
       "\t\t<dd>'integer'</dd>\n",
       "\t<dt>$Survived</dt>\n",
       "\t\t<dd>'integer'</dd>\n",
       "\t<dt>$Pclass</dt>\n",
       "\t\t<dd>'integer'</dd>\n",
       "\t<dt>$Name</dt>\n",
       "\t\t<dd>'factor'</dd>\n",
       "\t<dt>$Sex</dt>\n",
       "\t\t<dd>'factor'</dd>\n",
       "\t<dt>$Age</dt>\n",
       "\t\t<dd>'numeric'</dd>\n",
       "\t<dt>$SibSp</dt>\n",
       "\t\t<dd>'integer'</dd>\n",
       "\t<dt>$Parch</dt>\n",
       "\t\t<dd>'integer'</dd>\n",
       "\t<dt>$Ticket</dt>\n",
       "\t\t<dd>'factor'</dd>\n",
       "\t<dt>$Fare</dt>\n",
       "\t\t<dd>'numeric'</dd>\n",
       "\t<dt>$Cabin</dt>\n",
       "\t\t<dd>'factor'</dd>\n",
       "\t<dt>$Embarked</dt>\n",
       "\t\t<dd>'factor'</dd>\n",
       "</dl>\n"
      ],
      "text/latex": [
       "\\begin{description}\n",
       "\\item[\\$PassengerId] 'integer'\n",
       "\\item[\\$Survived] 'integer'\n",
       "\\item[\\$Pclass] 'integer'\n",
       "\\item[\\$Name] 'factor'\n",
       "\\item[\\$Sex] 'factor'\n",
       "\\item[\\$Age] 'numeric'\n",
       "\\item[\\$SibSp] 'integer'\n",
       "\\item[\\$Parch] 'integer'\n",
       "\\item[\\$Ticket] 'factor'\n",
       "\\item[\\$Fare] 'numeric'\n",
       "\\item[\\$Cabin] 'factor'\n",
       "\\item[\\$Embarked] 'factor'\n",
       "\\end{description}\n"
      ],
      "text/markdown": [
       "$PassengerId\n",
       ":   'integer'\n",
       "$Survived\n",
       ":   'integer'\n",
       "$Pclass\n",
       ":   'integer'\n",
       "$Name\n",
       ":   'factor'\n",
       "$Sex\n",
       ":   'factor'\n",
       "$Age\n",
       ":   'numeric'\n",
       "$SibSp\n",
       ":   'integer'\n",
       "$Parch\n",
       ":   'integer'\n",
       "$Ticket\n",
       ":   'factor'\n",
       "$Fare\n",
       ":   'numeric'\n",
       "$Cabin\n",
       ":   'factor'\n",
       "$Embarked\n",
       ":   'factor'\n",
       "\n",
       "\n"
      ],
      "text/plain": [
       "$PassengerId\n",
       "[1] \"integer\"\n",
       "\n",
       "$Survived\n",
       "[1] \"integer\"\n",
       "\n",
       "$Pclass\n",
       "[1] \"integer\"\n",
       "\n",
       "$Name\n",
       "[1] \"factor\"\n",
       "\n",
       "$Sex\n",
       "[1] \"factor\"\n",
       "\n",
       "$Age\n",
       "[1] \"numeric\"\n",
       "\n",
       "$SibSp\n",
       "[1] \"integer\"\n",
       "\n",
       "$Parch\n",
       "[1] \"integer\"\n",
       "\n",
       "$Ticket\n",
       "[1] \"factor\"\n",
       "\n",
       "$Fare\n",
       "[1] \"numeric\"\n",
       "\n",
       "$Cabin\n",
       "[1] \"factor\"\n",
       "\n",
       "$Embarked\n",
       "[1] \"factor\"\n"
      ]
     },
     "metadata": {},
     "output_type": "display_data"
    }
   ],
   "source": [
    "# Explorer la structure des données :\n",
    "\n",
    "lapply(titanic, class)\n"
   ]
  },
  {
   "cell_type": "code",
   "execution_count": 15,
   "id": "f6fffae4",
   "metadata": {},
   "outputs": [
    {
     "data": {
      "text/html": [
       "<ol class=list-inline>\n",
       "\t<li>177</li>\n",
       "\t<li>2</li>\n",
       "</ol>\n"
      ],
      "text/latex": [
       "\\begin{enumerate*}\n",
       "\\item 177\n",
       "\\item 2\n",
       "\\end{enumerate*}\n"
      ],
      "text/markdown": [
       "1. 177\n",
       "2. 2\n",
       "\n",
       "\n"
      ],
      "text/plain": [
       "[1] 177   2"
      ]
     },
     "metadata": {},
     "output_type": "display_data"
    }
   ],
   "source": [
    "#Valeurs manquantes\n",
    "missing <- which(is.na(titanic),arr.ind=TRUE)\n",
    "dim(missing)\n",
    "# Il manque l'age de 177 passagers"
   ]
  },
  {
   "cell_type": "code",
   "execution_count": 16,
   "id": "609d7ffd",
   "metadata": {},
   "outputs": [
    {
     "data": {
      "text/plain": [
       "    Survived          Sex          Pclass           Age       \n",
       " Min.   :0.0000   female:314   Min.   :1.000   Min.   : 0.42  \n",
       " 1st Qu.:0.0000   male  :577   1st Qu.:2.000   1st Qu.:20.12  \n",
       " Median :0.0000                Median :3.000   Median :28.00  \n",
       " Mean   :0.3838                Mean   :2.309   Mean   :29.70  \n",
       " 3rd Qu.:1.0000                3rd Qu.:3.000   3rd Qu.:38.00  \n",
       " Max.   :1.0000                Max.   :3.000   Max.   :80.00  \n",
       "                                               NA's   :177    "
      ]
     },
     "metadata": {},
     "output_type": "display_data"
    }
   ],
   "source": [
    "#Selection des variables que nous allons étudier\n",
    "data <- select(titanic, Survived, Sex, Pclass, Age)\n",
    "summary(data)"
   ]
  },
  {
   "cell_type": "code",
   "execution_count": 17,
   "id": "a420a8df",
   "metadata": {},
   "outputs": [
    {
     "data": {
      "image/png": "[encoded data removed]",
      "text/plain": [
       "Plot with title \"Age of Titanic passengers\""
      ]
     },
     "metadata": {},
     "output_type": "display_data"
    }
   ],
   "source": [
    "# Histogramme montrant la distribution de l'age des passagers\n",
    "hist(data$Age, main=\"Age of Titanic passengers\", xlab=\"Age\")\n"
   ]
  },
  {
   "cell_type": "code",
   "execution_count": 18,
   "id": "61907616",
   "metadata": {},
   "outputs": [
    {
     "data": {
      "text/html": [
       "<table>\n",
       "<thead><tr><th scope=col>Pclass</th><th scope=col>sum(Pclass)</th></tr></thead>\n",
       "<tbody>\n",
       "\t<tr><td>1   </td><td> 216</td></tr>\n",
       "\t<tr><td>2   </td><td> 368</td></tr>\n",
       "\t<tr><td>3   </td><td>1473</td></tr>\n",
       "</tbody>\n",
       "</table>\n"
      ],
      "text/latex": [
       "\\begin{tabular}{r|ll}\n",
       " Pclass & sum(Pclass)\\\\\n",
       "\\hline\n",
       "\t 1    &  216\\\\\n",
       "\t 2    &  368\\\\\n",
       "\t 3    & 1473\\\\\n",
       "\\end{tabular}\n"
      ],
      "text/markdown": [
       "\n",
       "| Pclass | sum(Pclass) |\n",
       "|---|---|\n",
       "| 1    |  216 |\n",
       "| 2    |  368 |\n",
       "| 3    | 1473 |\n",
       "\n"
      ],
      "text/plain": [
       "  Pclass sum(Pclass)\n",
       "1 1       216       \n",
       "2 2       368       \n",
       "3 3      1473       "
      ]
     },
     "metadata": {},
     "output_type": "display_data"
    }
   ],
   "source": [
    "# Voyons la distribution des passagers selon leur classe\n",
    "data %>% group_by(Pclass) %>% summarise(sum(Pclass))\n",
    "# 216 passagers en 1e classe, 368 en 2nd et 1473 en 3e classe"
   ]
  },
  {
   "cell_type": "code",
   "execution_count": 19,
   "id": "e0a67b55",
   "metadata": {},
   "outputs": [
    {
     "data": {
      "text/html": [
       "<table>\n",
       "<thead><tr><th scope=col>female_count</th><th scope=col>male_count</th></tr></thead>\n",
       "<tbody>\n",
       "\t<tr><td>314</td><td>577</td></tr>\n",
       "</tbody>\n",
       "</table>\n"
      ],
      "text/latex": [
       "\\begin{tabular}{r|ll}\n",
       " female\\_count & male\\_count\\\\\n",
       "\\hline\n",
       "\t 314 & 577\\\\\n",
       "\\end{tabular}\n"
      ],
      "text/markdown": [
       "\n",
       "| female_count | male_count |\n",
       "|---|---|\n",
       "| 314 | 577 |\n",
       "\n"
      ],
      "text/plain": [
       "  female_count male_count\n",
       "1 314          577       "
      ]
     },
     "metadata": {},
     "output_type": "display_data"
    }
   ],
   "source": [
    "# Regardons le nombre de femmes et d'hommes\n",
    "summarise(data, 'female_count' = sum(Sex=='female'),\n",
    "          'male_count' = sum(Sex=='male'))\n",
    "# 314 femmes and 577 hommes"
   ]
  },
  {
   "cell_type": "code",
   "execution_count": 20,
   "id": "418e3712",
   "metadata": {},
   "outputs": [],
   "source": [
    "# On transforme nos 3 variables en facteurs pour ggplot\n",
    "data$Sex<-as.factor(data$Sex)\n",
    "data$Pclass<-as.factor(data$Pclass)\n",
    "data$Survived<-as.factor(data$Survived)"
   ]
  },
  {
   "cell_type": "code",
   "execution_count": 21,
   "id": "7aec3cab",
   "metadata": {},
   "outputs": [
    {
     "data": {
      "image/png": "[encoded data removed]",
      "text/plain": [
       "plot without title"
      ]
     },
     "metadata": {},
     "output_type": "display_data"
    }
   ],
   "source": [
    "# Graphique représentant le nombre de passager qui a survecu (ou non) par rapport au sexe\n",
    "ggplot(data) + \n",
    "  geom_bar(aes(x=Survived, fill=Sex)) + \n",
    "  labs(title = \"Nombre de survivant par rapport au sexe\",\n",
    "       subtitle = \"1 = survived\")"
   ]
  },
  {
   "cell_type": "code",
   "execution_count": 25,
   "id": "b3053098",
   "metadata": {},
   "outputs": [
    {
     "name": "stderr",
     "output_type": "stream",
     "text": [
      "Warning message:\n",
      "\"Ignoring unknown parameters: binwidth, bins, pad\""
     ]
    },
    {
     "data": {
      "image/png": "[encoded data removed]",
      "text/plain": [
       "plot without title"
      ]
     },
     "metadata": {},
     "output_type": "display_data"
    }
   ],
   "source": [
    "# Graphique : Sexe des passagers  par rapport à leur classe\n",
    "ggplot(data) + \n",
    "  geom_histogram(aes(x=Pclass, fill=Sex), stat=\"count\") +\n",
    "  labs(title = \"Sexe des survivants pour chaque classe\", x=\"Classe\")"
   ]
  },
  {
   "cell_type": "code",
   "execution_count": 26,
   "id": "0198c2c4",
   "metadata": {},
   "outputs": [],
   "source": [
    "# Transformation de la variable age en tranches de 20\n",
    "cAge <- cut(data$Age, breaks = c(0, 20, 40, 60, 80))\n",
    "\n",
    "# On ajoute notre nouvlle variable à notre data frame\n",
    "data <- mutate(data, cAge)"
   ]
  },
  {
   "cell_type": "code",
   "execution_count": 27,
   "id": "771cc17f",
   "metadata": {},
   "outputs": [],
   "source": [
    "# On enleve les données manquantes\n",
    "data_no_na <- na.omit(data)"
   ]
  },
  {
   "cell_type": "code",
   "execution_count": 28,
   "id": "99c0b5d5",
   "metadata": {},
   "outputs": [
    {
     "name": "stderr",
     "output_type": "stream",
     "text": [
      "Warning message:\n",
      "\"Ignoring unknown parameters: binwidth, bins, pad\""
     ]
    },
    {
     "data": {
      "image/png": "[encoded data removed]",
      "text/plain": [
       "plot without title"
      ]
     },
     "metadata": {},
     "output_type": "display_data"
    }
   ],
   "source": [
    "# Graphique : Survie par rapport à l'age des passagers\n",
    "ggplot(data_no_na) + \n",
    "  geom_histogram(aes(x=cAge, fill=Survived), stat=\"count\") +\n",
    "  labs(title = \"Nombre de survivant par age\",\n",
    "       subtitle = \"1 = survived\",\n",
    "       x=\"Age\")"
   ]
  },
  {
   "cell_type": "code",
   "execution_count": 29,
   "id": "d39fb22e",
   "metadata": {},
   "outputs": [
    {
     "data": {
      "text/html": [
       "<table>\n",
       "<thead><tr><th scope=col>Sex</th><th scope=col>survived</th><th scope=col>not_survived</th><th scope=col>tot</th><th scope=col>survived_rate</th></tr></thead>\n",
       "<tbody>\n",
       "\t<tr><td>female   </td><td>233      </td><td> 81      </td><td>314      </td><td>0.7420382</td></tr>\n",
       "\t<tr><td>male     </td><td>109      </td><td>468      </td><td>577      </td><td>0.1889081</td></tr>\n",
       "</tbody>\n",
       "</table>\n"
      ],
      "text/latex": [
       "\\begin{tabular}{r|lllll}\n",
       " Sex & survived & not\\_survived & tot & survived\\_rate\\\\\n",
       "\\hline\n",
       "\t female    & 233       &  81       & 314       & 0.7420382\\\\\n",
       "\t male      & 109       & 468       & 577       & 0.1889081\\\\\n",
       "\\end{tabular}\n"
      ],
      "text/markdown": [
       "\n",
       "| Sex | survived | not_survived | tot | survived_rate |\n",
       "|---|---|---|---|---|\n",
       "| female    | 233       |  81       | 314       | 0.7420382 |\n",
       "| male      | 109       | 468       | 577       | 0.1889081 |\n",
       "\n"
      ],
      "text/plain": [
       "  Sex    survived not_survived tot survived_rate\n",
       "1 female 233       81          314 0.7420382    \n",
       "2 male   109      468          577 0.1889081    "
      ]
     },
     "metadata": {},
     "output_type": "display_data"
    }
   ],
   "source": [
    "# Proportion de survie par sexe\n",
    "data %>% group_by(Sex) %>% summarise(survived = sum(Survived==1),\n",
    "                                    not_survived = sum(Survived==0),\n",
    "                                    tot = survived + not_survived,\n",
    "                                    survived_rate = survived / tot)\n"
   ]
  },
  {
   "cell_type": "code",
   "execution_count": 30,
   "id": "f4714dca",
   "metadata": {},
   "outputs": [
    {
     "data": {
      "text/html": [
       "<table>\n",
       "<thead><tr><th scope=col>Pclass</th><th scope=col>survived</th><th scope=col>not_survived</th><th scope=col>tot</th><th scope=col>survived_rate</th></tr></thead>\n",
       "<tbody>\n",
       "\t<tr><td>1        </td><td>136      </td><td> 80      </td><td>216      </td><td>0.6296296</td></tr>\n",
       "\t<tr><td>2        </td><td> 87      </td><td> 97      </td><td>184      </td><td>0.4728261</td></tr>\n",
       "\t<tr><td>3        </td><td>119      </td><td>372      </td><td>491      </td><td>0.2423625</td></tr>\n",
       "</tbody>\n",
       "</table>\n"
      ],
      "text/latex": [
       "\\begin{tabular}{r|lllll}\n",
       " Pclass & survived & not\\_survived & tot & survived\\_rate\\\\\n",
       "\\hline\n",
       "\t 1         & 136       &  80       & 216       & 0.6296296\\\\\n",
       "\t 2         &  87       &  97       & 184       & 0.4728261\\\\\n",
       "\t 3         & 119       & 372       & 491       & 0.2423625\\\\\n",
       "\\end{tabular}\n"
      ],
      "text/markdown": [
       "\n",
       "| Pclass | survived | not_survived | tot | survived_rate |\n",
       "|---|---|---|---|---|\n",
       "| 1         | 136       |  80       | 216       | 0.6296296 |\n",
       "| 2         |  87       |  97       | 184       | 0.4728261 |\n",
       "| 3         | 119       | 372       | 491       | 0.2423625 |\n",
       "\n"
      ],
      "text/plain": [
       "  Pclass survived not_survived tot survived_rate\n",
       "1 1      136       80          216 0.6296296    \n",
       "2 2       87       97          184 0.4728261    \n",
       "3 3      119      372          491 0.2423625    "
      ]
     },
     "metadata": {},
     "output_type": "display_data"
    }
   ],
   "source": [
    "# Proportion de survie par classe\n",
    "data %>% group_by(Pclass) %>% summarise(survived = sum(Survived==1),\n",
    "                                       not_survived = sum(Survived==0),\n",
    "                                       tot = survived + not_survived,\n",
    "                                       survived_rate = survived / tot)"
   ]
  },
  {
   "cell_type": "code",
   "execution_count": 31,
   "id": "24992140",
   "metadata": {},
   "outputs": [
    {
     "data": {
      "text/html": [
       "<table>\n",
       "<thead><tr><th scope=col>cAge</th><th scope=col>survived</th><th scope=col>not_survived</th><th scope=col>tot</th><th scope=col>survived_rate</th></tr></thead>\n",
       "<tbody>\n",
       "\t<tr><td>(0,20]   </td><td> 82      </td><td> 97      </td><td>179      </td><td>0.4581006</td></tr>\n",
       "\t<tr><td>(20,40]  </td><td>153      </td><td>232      </td><td>385      </td><td>0.3974026</td></tr>\n",
       "\t<tr><td>(40,60]  </td><td> 50      </td><td> 78      </td><td>128      </td><td>0.3906250</td></tr>\n",
       "\t<tr><td>(60,80]  </td><td>  5      </td><td> 17      </td><td> 22      </td><td>0.2272727</td></tr>\n",
       "</tbody>\n",
       "</table>\n"
      ],
      "text/latex": [
       "\\begin{tabular}{r|lllll}\n",
       " cAge & survived & not\\_survived & tot & survived\\_rate\\\\\n",
       "\\hline\n",
       "\t (0,20{]}  &  82       &  97       & 179       & 0.4581006\\\\\n",
       "\t (20,40{]} & 153       & 232       & 385       & 0.3974026\\\\\n",
       "\t (40,60{]} &  50       &  78       & 128       & 0.3906250\\\\\n",
       "\t (60,80{]} &   5       &  17       &  22       & 0.2272727\\\\\n",
       "\\end{tabular}\n"
      ],
      "text/markdown": [
       "\n",
       "| cAge | survived | not_survived | tot | survived_rate |\n",
       "|---|---|---|---|---|\n",
       "| (0,20]    |  82       |  97       | 179       | 0.4581006 |\n",
       "| (20,40]   | 153       | 232       | 385       | 0.3974026 |\n",
       "| (40,60]   |  50       |  78       | 128       | 0.3906250 |\n",
       "| (60,80]   |   5       |  17       |  22       | 0.2272727 |\n",
       "\n"
      ],
      "text/plain": [
       "  cAge    survived not_survived tot survived_rate\n",
       "1 (0,20]   82       97          179 0.4581006    \n",
       "2 (20,40] 153      232          385 0.3974026    \n",
       "3 (40,60]  50       78          128 0.3906250    \n",
       "4 (60,80]   5       17           22 0.2272727    "
      ]
     },
     "metadata": {},
     "output_type": "display_data"
    }
   ],
   "source": [
    "# Proportion de survie par age\n",
    "data_no_na %>% group_by(cAge) %>% summarise(survived = sum(Survived==1),\n",
    "                                       not_survived = sum(Survived==0),\n",
    "                                       tot = survived + not_survived,\n",
    "                                       survived_rate = survived / tot)"
   ]
  },
  {
   "cell_type": "code",
   "execution_count": 32,
   "id": "3728f358",
   "metadata": {},
   "outputs": [],
   "source": [
    "# Calcul du coefficient de corrélation entre nos variables\n",
    "mcor <- cor(data.matrix(data_no_na, rownames.force = NA))"
   ]
  },
  {
   "cell_type": "code",
   "execution_count": 33,
   "id": "283281f0",
   "metadata": {},
   "outputs": [],
   "source": [
    "# Création d'une palette de couleur dégradé rouge et bleu\n",
    "col <- colorRampPalette(c(\"#BB4444\", \"#EE9988\", \"#FFFFFF\", \"#77AADD\", \"#4477AA\"))\n"
   ]
  },
  {
   "cell_type": "code",
   "execution_count": 34,
   "id": "638be85c",
   "metadata": {},
   "outputs": [
    {
     "data": {
      "image/png": "[encoded data removed]",
      "text/plain": [
       "Plot with title \"\""
      ]
     },
     "metadata": {},
     "output_type": "display_data"
    }
   ],
   "source": [
    "# Matrice de corrélation utilisant la matrice préalablement calculé mcor\n",
    "corrplot(mcor, method=\"color\", col=col(200),  \n",
    "         type=\"upper\", order=\"hclust\", \n",
    "         addCoef.col = \"black\", # Ajout du coefficient de corrélation\n",
    "         tl.col=\"black\", tl.srt=45, #Rotation des etiquettes de textes\n",
    "         # Combiner avec le niveau de significativité\n",
    "         sig.level = 0.01, insig = \"blank\", \n",
    "         # Cacher les coefficients de corrélation sur la diagonale\n",
    "         diag=FALSE \n",
    ")"
   ]
  },
  {
   "cell_type": "markdown",
   "id": "73f2a8cf",
   "metadata": {},
   "source": [
    "# Prédiction de survie pour les passagers du Titanic "
   ]
  },
  {
   "cell_type": "code",
   "execution_count": 35,
   "id": "bf1bbf0f",
   "metadata": {},
   "outputs": [],
   "source": [
    "# Construction des tables de probabilitées de nos variables\n",
    "S_P <- prop.table(table(data$Pclass, data$Survived), margin=2)\n",
    "S_Sx <- prop.table(table(data$Sex, data$Survived))\n",
    "S_Ca <- prop.table(table(data$cAge, data$Survived))\n",
    "S <- prop.table(table(data$Survived))"
   ]
  },
  {
   "cell_type": "code",
   "execution_count": 43,
   "id": "b72fdad7",
   "metadata": {},
   "outputs": [],
   "source": [
    "prob_total <- function(Sex, Pclass, Age, S_Sx, S_P, S_Ca, s) {\n",
    "  # Calcul la probabilité de survie (s=2) ou non (s=1) par rapport au profil du passager (sexe, age, classe)\n",
    "  \n",
    "  # On récupère les probas qui nous interressent pour utiliser la formule probabilités totales\n",
    "  \n",
    "  # S_Sx = table de probabilité de survie par sexe\n",
    "  if (Sex == \"female\") {sex_prob <- S_Sx[1, s]}\n",
    "  else if (Sex == 'male') {sex_prob <- S_Sx [2, s]}\n",
    "  else {return (\"warning, Sex variable is incorrect\")}\n",
    "  \n",
    "  # S_Sx = table de probabilité de survie par classe\n",
    "  if (Pclass == 1) {class_prob <- S_P[1, s]}\n",
    "  else if (Pclass == 2) {class_prob <- S_P[2, s]}\n",
    "  else if (Pclass == 3) {class_prob <- S_P[3, s]}\n",
    "  else {return (\"warning, Class variable is incorrect\")\n",
    "       }\n",
    "     # Pour le test.csv on remplace Na par 0 sur l'âge\n",
    "  # Une probabilité de 1 n'aura pas d'influence sur le calcul\n",
    "  if (Age == 0) {age_prob <- 1}\n",
    "  else if (Age <= 20) {age_prob <- S_Ca[1, s]}\n",
    "  else if (Age <= 40) {age_prob <- S_Ca[2, s]} \n",
    "  else if (Age <= 60) {age_prob <- S_Ca[3, s]} \n",
    "  else if (Age <= 100) {age_prob <- S_Ca[4, s]} \n",
    "  else {return (\"warning, Age variable is incorrect\")}\n",
    "  \n",
    "  return (sex_prob * class_prob * age_prob)\n",
    "    }\n",
    "  "
   ]
  },
  {
   "cell_type": "code",
   "execution_count": 44,
   "id": "c27dbdc0",
   "metadata": {},
   "outputs": [],
   "source": [
    "\n",
    "prob_prediction <- function(Sex, Pclass, Age, S_Sx, S_P, S_Ca, S) {\n",
    "  # naive bayes classifier w/ Maximum a Posteriori Probability\n",
    "  \n",
    "  # donne la probabilité de survie d'un passager \n",
    "  # en fonction de son age, son sexe et la classe dans laquelle il voyageait\n",
    "  \n",
    "  # prend en arguments trois vecteur et les tables de probabilités nécéssaires\n",
    "  # Sex: caracteres \"female\" ou \"male\"\n",
    "  # Pclass: classe dans laquelle voyageait le passager; numeric\n",
    "  # Age: numeric\n",
    "  \n",
    "  # retourne 1 si la probabilité de survie > 0.5 sinon 0\n",
    "  \n",
    "  survived <- prob_total(Sex, Pclass, Age, S_Sx, S_P, S_Ca, 1)\n",
    "  not_survived <- prob_total(Sex, Pclass, Age, S_Sx, S_P, S_Ca, 2)\n",
    "  \n",
    "  if (survived / (survived + not_survived) > 0.5) {return (1)}\n",
    "  else {return (0)}\n",
    "}"
   ]
  },
  {
   "cell_type": "code",
   "execution_count": 45,
   "id": "5ce8ac7a",
   "metadata": {},
   "outputs": [],
   "source": [
    "# Une fois les probabilités calculés sur les données d'entrainement\n",
    "# On va tenter de prédire si les passagers du fichier test vont survivre ou non\n",
    "\n",
    "# N'ayant pas le jeu de données avec la survie, nous utiliserons celui de kaggle\n",
    "# Ou nous pouroons uploader nos prédictions afin de déterminer les perfomances du modèle\n",
    "\n",
    "test <- read.csv(\"test.csv\")\n",
    "test <- select(test, Sex, Age, Pclass, PassengerId)\n",
    "\n",
    "# On remplace nos Na\n",
    "test[is.na(test)] <- 0\n",
    "\n",
    "# Création d'un df vide pour y mettre nos prédiction \n",
    "pred <- data.frame(\"PassengerId\"=numeric(418),\n",
    "                   \"Survived\"=numeric(418), \n",
    "                   stringsAsFactors = FALSE)\n",
    "k <- 1"
   ]
  },
  {
   "cell_type": "code",
   "execution_count": 46,
   "id": "89655bba",
   "metadata": {},
   "outputs": [],
   "source": [
    "# On parcours notre dataset (de 419 lignes)\n",
    "while (k < 419) {\n",
    "  # On calcul nos prédiction pour chaque ligne\n",
    "  c <- prob_prediction(Sex=test[k,1], \n",
    "                       Age=test[k,2], \n",
    "                       Pclass=test[k,3], \n",
    "                       S_Sx=S_Sx, \n",
    "                       S_P=S_P, \n",
    "                       S_Ca=S_Ca, \n",
    "                       S=S)\n",
    "  # On met notre prédiction de survie dans un df\n",
    "  pred[k, 2] <- c[1]\n",
    "  # On met aussi l'ID du passager\n",
    "  pred[k, 1] <- test[k, 4]\n",
    "  k = k + 1\n",
    "}"
   ]
  },
  {
   "cell_type": "code",
   "execution_count": 47,
   "id": "e7daad77",
   "metadata": {},
   "outputs": [],
   "source": [
    "# On créée notre fichier pred.csv avec nos prédiction \n",
    "write.csv(pred,'pred.csv', row.names = FALSE)\n",
    "\n",
    "#score: 0.76794"
   ]
  },
  {
   "cell_type": "code",
   "execution_count": null,
   "id": "53ffe5e5",
   "metadata": {},
   "outputs": [],
   "source": []
  }
 ],
 "metadata": {
  "kernelspec": {
   "display_name": "R",
   "language": "R",
   "name": "ir"
  },
  "language_info": {
   "codemirror_mode": "r",
   "file_extension": ".r",
   "mimetype": "text/x-r-source",
   "name": "R",
   "pygments_lexer": "r",
   "version": "3.6.1"
  }
 },
 "nbformat": 4,
 "nbformat_minor": 5
}
